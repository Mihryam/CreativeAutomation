{
 "cells": [
  {
   "cell_type": "code",
   "execution_count": 2,
   "metadata": {},
   "outputs": [
    {
     "name": "stdout",
     "output_type": "stream",
     "text": [
      "product purchased: KeyBoard\n",
      "type your price: 2000\n",
      "product purchased: Mouse\n",
      "type your price: 1500\n",
      "product purchased: BlueRay Glasses\n",
      "type your price: 5000\n",
      "product purchased: HeadSet\n",
      "type your price: 3500\n"
     ]
    }
   ],
   "source": [
    "#defining the variables needed for this program\n",
    "#It would have had hard coded values assigned to them, but we need the cashier to input the prices and products herself\n",
    "#This program can be used to print differnt customer receipts who bought not more than 4 products\n",
    "#p1 means product 1 and same goes for the rest \n",
    "try:\n",
    "    p1_name, p1_price = input('product purchased: '), float(input('type your price: '))\n",
    "    p2_name, p2_price = input('product purchased: '), float(input('type your price: '))\n",
    "    p3_name, p3_price = input('product purchased: '), float(input('type your price: '))\n",
    "    p4_name, p4_price = input('product purchased: '), float(input('type your price: '))\n",
    "except ValueError:\n",
    "    print('Hello Dear. You typed a word for the price.\\nTry running this again and input the price in digits this time.')"
   ]
  },
  {
   "cell_type": "code",
   "execution_count": 3,
   "metadata": {},
   "outputs": [
    {
     "name": "stdout",
     "output_type": "stream",
     "text": [
      "Name of Customer: Miriam Amaefule\n"
     ]
    }
   ],
   "source": [
    "#Getting customers name\n",
    "customer_name = input('Name of Customer: ')\n",
    "\n",
    "#defining the variables needed for the company details onthe receipt\n",
    "company_name = \"microsoft technologies\"\n",
    "company_address = \"283 Mirah St.\"\n",
    "company_city = \"Newyork, Paris\"\n",
    "message = \"Thanks for shopping with us today!\"\n"
   ]
  },
  {
   "cell_type": "code",
   "execution_count": 10,
   "metadata": {
    "scrolled": true
   },
   "outputs": [
    {
     "name": "stdout",
     "output_type": "stream",
     "text": [
      "**************************************************\n",
      "\t\tMicrosoft Technologies\n",
      "\t\t283 Mirah St.\n",
      "\t\tNewyork, Paris\n",
      "==================================================\n",
      "\tProduct Name\tProduct Price\n",
      "\tKeyboard\t\t$2000.0\n",
      "\tMouse\t\t$1500.0\n",
      "\tBlueray Glasses\t\t$5000.0\n",
      "\tHeadset\t\t$3500.0\n",
      "==================================================\n",
      "\t\t\tTotal\n",
      "\t\t\t$12000.0\n",
      "==================================================\n",
      "\n",
      "\tMiriam Amaefule!! We appreciate you.\n",
      "\tThanks for shopping with us today!\n",
      "\n",
      "**************************************************\n"
     ]
    }
   ],
   "source": [
    "#creating the top border line of the receipt\n",
    "print( \"*\" * 50 )\n",
    "\n",
    "#printing the company details first\n",
    "print( f\"\\t\\t{company_name.title()}\")\n",
    "print(f\"\\t\\t{company_address }\")\n",
    "print( f\"\\t\\t{company_city }\")\n",
    "\n",
    "\n",
    "#creating a line to divide this section for the company details\n",
    "print( \"=\" * 50 )\n",
    "\n",
    "#creating a header section for the product name and price in a tabular form\n",
    "print(\"\\tProduct Name\\tProduct Price\")\n",
    "\n",
    "#printing product name and price under the dbove header section\n",
    "print( f\"\\t{p1_name.title( ) }\\t\\t${p1_price }\")\n",
    "print( f\"\\t{p2_name.title( ) }\\t\\t${p2_price }\")\n",
    "print( f\"\\t{p3_name.title( ) }\\t\\t${p3_price }\")\n",
    "print( f\"\\t{p4_name.title( ) }\\t\\t${p4_price }\")\n",
    "\n",
    "#printing a line to divide this section\n",
    "print('=' * 50)\n",
    "\n",
    "#creatind a header fpr the total section\n",
    "print(\"\\t\\t\\tTotal\")\n",
    "\n",
    "#getting total of the products\n",
    "total = p1_price + p2_price + p3_price + p4_price\n",
    "print( f\"\\t\\t\\t${total }\")\n",
    "\n",
    "#printing a line to divide this section\n",
    "print( \"=\" * 50)\n",
    "\n",
    "#printing appreciation message\n",
    "print( f\"\\n\\t{customer_name.title()}!! We appreciate you.\\n\\t{message }\\n\")\n",
    "\n",
    "print( \"*\" * 50 )\n",
    " "
   ]
  },
  {
   "cell_type": "code",
   "execution_count": null,
   "metadata": {},
   "outputs": [],
   "source": []
  }
 ],
 "metadata": {
  "kernelspec": {
   "display_name": "Python 3",
   "language": "python",
   "name": "python3"
  },
  "language_info": {
   "codemirror_mode": {
    "name": "ipython",
    "version": 3
   },
   "file_extension": ".py",
   "mimetype": "text/x-python",
   "name": "python",
   "nbconvert_exporter": "python",
   "pygments_lexer": "ipython3",
   "version": "3.7.3"
  }
 },
 "nbformat": 4,
 "nbformat_minor": 2
}
